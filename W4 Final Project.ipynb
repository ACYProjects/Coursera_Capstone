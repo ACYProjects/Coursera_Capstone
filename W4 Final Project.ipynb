{
 "cells": [
  {
   "cell_type": "markdown",
   "metadata": {},
   "source": [
    "# IBM FINAL PROJECT"
   ]
  },
  {
   "cell_type": "markdown",
   "metadata": {},
   "source": [
    "# Introduction/Business Problem\n",
    "\n",
    "#### The main objective of this project is to describe how the type of bussinesses in the city of Cancun, Mexico, affects the overall employment of its population\n",
    "#### This project is focused to be read by goverment officials and the population of the city. In order to explain the employment in the city, the information extracted from foursquare will be compared with the data from this official source. It is expected to have more and more reliable information from this last source . It is important to explain this dinamic because Cancun is one of the most important touristic zone in the country. This also could be used to develop some public actions to increase the number of people employed in the city\n"
   ]
  },
  {
   "cell_type": "markdown",
   "metadata": {},
   "source": [
    "# Data Description\n",
    "\n",
    "\n",
    "#### Foursquare as a  primary source of information resulted insufficient, due to the fact that it is mainly used by tourists visiting the city. For this reason the project was conducted by using downloaded information from the mexican agency of information (INEGI) . This information is not sorted by Neighboorhoor like in Foursquare, the key variable of this information is called AGEB, a unique variable for every area division for the mexican census\n",
    "\n",
    "#### In order to explain the number of people employed in the area, as the target variable, some other independent variable were used; number of no vacant houses, people with health goverment insurance, beachelor degree held by 25 years old or above and total population . A Linear Regression was conducted to explain the interection from the variables. At the same time a K-mean clustering analysis was made to classify the points in the map. Finally another Linear Regression was described with the prior classification, decomposing this varable into dummy variables"
   ]
  },
  {
   "cell_type": "markdown",
   "metadata": {},
   "source": [
    "# FourSquare - INEGI Data"
   ]
  },
  {
   "cell_type": "markdown",
   "metadata": {},
   "source": [
    "![](https://raw.githubusercontent.com/Hardolfo/Coursera_Capstone/master/FourSquare%20K%20means.jpg?raw=true)\n",
    "\n",
    "![](https://raw.githubusercontent.com/Hardolfo/Coursera_Capstone/master/Inegi%20K%20means.jpg?raw=true)"
   ]
  }
 ],
 "metadata": {
  "kernelspec": {
   "display_name": "Python 3",
   "language": "python",
   "name": "python3"
  },
  "language_info": {
   "codemirror_mode": {
    "name": "ipython",
    "version": 3
   },
   "file_extension": ".py",
   "mimetype": "text/x-python",
   "name": "python",
   "nbconvert_exporter": "python",
   "pygments_lexer": "ipython3",
   "version": "3.7.4"
  }
 },
 "nbformat": 4,
 "nbformat_minor": 2
}
